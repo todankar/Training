{
 "cells": [
  {
   "cell_type": "code",
   "execution_count": null,
   "metadata": {},
   "outputs": [],
   "source": [
    "pal='madam'\n",
    "\n",
    "l = len(pal)\n",
    "h = False\n",
    "k = l/2\n",
    "m = int(k)\n",
    "\n",
    "while o <=m:\n",
    "    if pal[o] == pal[-(len-o)]:\n",
    "       count = True\n",
    "    else:\n",
    "       count =False\n",
    "    o+=1"
   ]
  },
  {
   "cell_type": "code",
   "execution_count": null,
   "metadata": {},
   "outputs": [],
   "source": [
    "o=0\n"
   ]
  },
  {
   "cell_type": "code",
   "execution_count": null,
   "metadata": {},
   "outputs": [],
   "source": [
    "print(count)"
   ]
  },
  {
   "cell_type": "code",
   "execution_count": null,
   "metadata": {},
   "outputs": [],
   "source": [
    "pal='madam'\n",
    "o=0\n",
    "l = len(pal)\n",
    "h = False\n",
    "k = l/2\n",
    "m = int(k)\n",
    "\n",
    "while o <=m:\n",
    "    if pal[o] == pal[-(len-o)]:\n",
    "       count = True\n",
    "    else:\n",
    "       count =False\n",
    "    o+=1"
   ]
  },
  {
   "cell_type": "code",
   "execution_count": null,
   "metadata": {},
   "outputs": [],
   "source": [
    "pal='madam'\n",
    "o=0\n",
    "l = len(pal)\n",
    "h = False\n",
    "k = l/2\n",
    "m = int(k)\n",
    "\n",
    "while o <=m:\n",
    "    if pal[o] == pal[-l-1-o]:\n",
    "       count = True\n",
    "    else:\n",
    "       count =False\n",
    "    o+=1"
   ]
  },
  {
   "cell_type": "code",
   "execution_count": null,
   "metadata": {},
   "outputs": [],
   "source": [
    "pal='madam'\n",
    "o=0\n",
    "l = len(pal)\n",
    "h = False\n",
    "k = l/2\n",
    "m = int(k)\n",
    "\n",
    "while o <=m:\n",
    "    print(pal[o])\n",
    "    print[pal[-l-1-o]]\n",
    "    if pal[o] == pal[-]:\n",
    "       count = True\n",
    "    else:\n",
    "       count =False\n",
    "    o+=1"
   ]
  },
  {
   "cell_type": "code",
   "execution_count": null,
   "metadata": {},
   "outputs": [],
   "source": [
    "pal='madam'\n",
    "o=0\n",
    "l = len(pal)\n",
    "h = False\n",
    "k = l/2\n",
    "m = int(k)\n",
    "\n",
    "while o <=m:\n",
    "    print(pal[o])\n",
    "    print[pal[-l-1-o]]\n",
    "    if pal[o] == pal[-l-1-o]:\n",
    "       count = True\n",
    "    else:\n",
    "       count =False\n",
    "    o+=1"
   ]
  },
  {
   "cell_type": "code",
   "execution_count": null,
   "metadata": {},
   "outputs": [],
   "source": [
    "l-1-o\n"
   ]
  },
  {
   "cell_type": "code",
   "execution_count": null,
   "metadata": {},
   "outputs": [],
   "source": [
    "pal[-4]\n"
   ]
  },
  {
   "cell_type": "code",
   "execution_count": null,
   "metadata": {},
   "outputs": [],
   "source": [
    "pal='madam'\n",
    "o=0\n",
    "l = len(pal)\n",
    "h = False\n",
    "k = l/2\n",
    "m = int(k)\n",
    "\n",
    "while o <=m:\n",
    "    print(pal[o])\n",
    "    print[pal[-l-1-o]]\n",
    "    if pal[o] == pal[l-1-o]:\n",
    "       count = True\n",
    "    else:\n",
    "       count =False\n",
    "    o+=1"
   ]
  },
  {
   "cell_type": "code",
   "execution_count": null,
   "metadata": {},
   "outputs": [],
   "source": [
    "pal='madam'\n",
    "o=0\n",
    "l = len(pal)\n",
    "h = False\n",
    "k = l/2\n",
    "m = int(k)\n",
    "\n",
    "while o <=m:\n",
    "    print(pal[o])\n",
    "    print[pal[l-1-o]]\n",
    "    if pal[o] == pal[l-1-o]:\n",
    "       count = True\n",
    "    else:\n",
    "       count =False\n",
    "    o+=1"
   ]
  },
  {
   "cell_type": "code",
   "execution_count": null,
   "metadata": {},
   "outputs": [],
   "source": [
    "pal='madam'\n",
    "o=0\n",
    "l = len(pal)\n",
    "h = False\n",
    "k = l/2\n",
    "m = int(k)\n",
    "\n",
    "while o <=m:\n",
    "    print(pal[o])\n",
    "    print(pal[l-1-o])\n",
    "    if pal[o] == pal[l-1-o]:\n",
    "       count = True\n",
    "    else:\n",
    "       count =False\n",
    "    o+=1"
   ]
  },
  {
   "cell_type": "code",
   "execution_count": null,
   "metadata": {},
   "outputs": [],
   "source": [
    "count\n"
   ]
  },
  {
   "cell_type": "code",
   "execution_count": null,
   "metadata": {},
   "outputs": [],
   "source": [
    "pal='himani'\n",
    "o=0\n",
    "l = len(pal)\n",
    "h = False\n",
    "k = l/2\n",
    "m = int(k)\n",
    "\n",
    "while o <=m:\n",
    "    print(pal[o])\n",
    "    print(pal[l-1-o])\n",
    "    if pal[o] == pal[l-1-o]:\n",
    "       count = True\n",
    "    else:\n",
    "       count =False\n",
    "    o+=1"
   ]
  },
  {
   "cell_type": "code",
   "execution_count": null,
   "metadata": {},
   "outputs": [],
   "source": [
    "count\n"
   ]
  },
  {
   "cell_type": "code",
   "execution_count": null,
   "metadata": {},
   "outputs": [],
   "source": [
    "\n",
    "p = range(1,10)"
   ]
  },
  {
   "cell_type": "code",
   "execution_count": null,
   "metadata": {},
   "outputs": [],
   "source": [
    "p"
   ]
  },
  {
   "cell_type": "code",
   "execution_count": null,
   "metadata": {},
   "outputs": [],
   "source": [
    "j = len(p)"
   ]
  },
  {
   "cell_type": "code",
   "execution_count": null,
   "metadata": {},
   "outputs": [],
   "source": [
    "j\n"
   ]
  },
  {
   "cell_type": "code",
   "execution_count": null,
   "metadata": {},
   "outputs": [],
   "source": [
    "j = p.stop()"
   ]
  },
  {
   "cell_type": "code",
   "execution_count": null,
   "metadata": {},
   "outputs": [],
   "source": [
    "j = p[range(len-1)]"
   ]
  },
  {
   "cell_type": "code",
   "execution_count": null,
   "metadata": {},
   "outputs": [],
   "source": [
    "print(p[-1])"
   ]
  },
  {
   "cell_type": "code",
   "execution_count": null,
   "metadata": {},
   "outputs": [],
   "source": [
    "p[j-1]"
   ]
  },
  {
   "cell_type": "code",
   "execution_count": null,
   "metadata": {},
   "outputs": [],
   "source": [
    "p.values"
   ]
  },
  {
   "cell_type": "code",
   "execution_count": null,
   "metadata": {},
   "outputs": [],
   "source": [
    "arr=[]\n",
    "for a in p:\n",
    "    arr.append(a)"
   ]
  },
  {
   "cell_type": "code",
   "execution_count": null,
   "metadata": {},
   "outputs": [],
   "source": [
    "print(arr)"
   ]
  },
  {
   "cell_type": "code",
   "execution_count": null,
   "metadata": {},
   "outputs": [],
   "source": [
    "f = \"testWord\""
   ]
  },
  {
   "cell_type": "code",
   "execution_count": null,
   "metadata": {},
   "outputs": [],
   "source": [
    "f = \"test 'this' word\""
   ]
  },
  {
   "cell_type": "code",
   "execution_count": null,
   "metadata": {},
   "outputs": [],
   "source": [
    "f"
   ]
  },
  {
   "cell_type": "code",
   "execution_count": null,
   "metadata": {},
   "outputs": [],
   "source": [
    "f = \"test \\n new line\""
   ]
  },
  {
   "cell_type": "code",
   "execution_count": null,
   "metadata": {},
   "outputs": [],
   "source": [
    "f"
   ]
  },
  {
   "cell_type": "code",
   "execution_count": null,
   "metadata": {},
   "outputs": [],
   "source": [
    "print(f)"
   ]
  },
  {
   "cell_type": "code",
   "execution_count": null,
   "metadata": {},
   "outputs": [],
   "source": [
    "testString= 'Suhas Ajit Patil'"
   ]
  },
  {
   "cell_type": "code",
   "execution_count": null,
   "metadata": {},
   "outputs": [],
   "source": [
    "testString[:3]"
   ]
  },
  {
   "cell_type": "code",
   "execution_count": null,
   "metadata": {},
   "outputs": [],
   "source": [
    "testString[2:8]"
   ]
  },
  {
   "cell_type": "code",
   "execution_count": null,
   "metadata": {},
   "outputs": [],
   "source": [
    "testString[::2]"
   ]
  },
  {
   "cell_type": "code",
   "execution_count": null,
   "metadata": {},
   "outputs": [],
   "source": [
    "testString[::4]"
   ]
  },
  {
   "cell_type": "code",
   "execution_count": null,
   "metadata": {},
   "outputs": [],
   "source": [
    "testString[::-1]"
   ]
  },
  {
   "cell_type": "code",
   "execution_count": null,
   "metadata": {},
   "outputs": [],
   "source": [
    "testString[2:9]"
   ]
  },
  {
   "cell_type": "code",
   "execution_count": null,
   "metadata": {},
   "outputs": [],
   "source": [
    "p\n",
    "arr=[]\n",
    "for a in p:\n",
    "    arr.append(a)\n",
    "print(arr)"
   ]
  },
  {
   "cell_type": "code",
   "execution_count": null,
   "metadata": {},
   "outputs": [],
   "source": [
    "li=list(p)"
   ]
  },
  {
   "cell_type": "code",
   "execution_count": null,
   "metadata": {},
   "outputs": [],
   "source": [
    "li\\"
   ]
  },
  {
   "cell_type": "code",
   "execution_count": null,
   "metadata": {},
   "outputs": [],
   "source": [
    "list(range(1,10))"
   ]
  },
  {
   "cell_type": "code",
   "execution_count": null,
   "metadata": {},
   "outputs": [],
   "source": [
    "a = list(range(2000,3201))"
   ]
  },
  {
   "cell_type": "code",
   "execution_count": null,
   "metadata": {},
   "outputs": [],
   "source": [
    "print(a)"
   ]
  },
  {
   "cell_type": "code",
   "execution_count": null,
   "metadata": {},
   "outputs": [],
   "source": []
  },
  {
   "cell_type": "code",
   "execution_count": null,
   "metadata": {},
   "outputs": [],
   "source": [
    "m,dt,y = d.split('/')"
   ]
  },
  {
   "cell_type": "markdown",
   "metadata": {},
   "source": []
  },
  {
   "cell_type": "code",
   "execution_count": null,
   "metadata": {},
   "outputs": [],
   "source": []
  },
  {
   "cell_type": "code",
   "execution_count": null,
   "metadata": {},
   "outputs": [],
   "source": [
    "dd"
   ]
  },
  {
   "cell_type": "code",
   "execution_count": null,
   "metadata": {},
   "outputs": [],
   "source": [
    "import datetime\n",
    "d = input('test : (mm/dd/yyyy)')\n",
    "m,dt,y = d.split('/')\n",
    "dd = datetime.datetime(int(y),int(m),int(dt))\n",
    "print(dd)\n"
   ]
  },
  {
   "cell_type": "code",
   "execution_count": null,
   "metadata": {},
   "outputs": [],
   "source": []
  },
  {
   "cell_type": "code",
   "execution_count": null,
   "metadata": {},
   "outputs": [],
   "source": []
  }
 ],
 "metadata": {
  "kernelspec": {
   "display_name": "Python 3",
   "language": "python",
   "name": "python3"
  },
  "language_info": {
   "codemirror_mode": {
    "name": "ipython",
    "version": 3
   },
   "file_extension": ".py",
   "mimetype": "text/x-python",
   "name": "python",
   "nbconvert_exporter": "python",
   "pygments_lexer": "ipython3",
   "version": "3.7.4"
  }
 },
 "nbformat": 4,
 "nbformat_minor": 4
}
